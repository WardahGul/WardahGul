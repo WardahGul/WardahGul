{
  "nbformat": 4,
  "nbformat_minor": 0,
  "metadata": {
    "colab": {
      "provenance": [],
      "authorship_tag": "ABX9TyPyozs2YbeM1SBeeO8y9f7L",
      "include_colab_link": true
    },
    "kernelspec": {
      "name": "python3",
      "display_name": "Python 3"
    },
    "language_info": {
      "name": "python"
    }
  },
  "cells": [
    {
      "cell_type": "markdown",
      "metadata": {
        "id": "view-in-github",
        "colab_type": "text"
      },
      "source": [
        "<a href=\"https://colab.research.google.com/github/WardahGul/WardahGul/blob/main/Lab_01_20SW034.ipynb\" target=\"_parent\"><img src=\"https://colab.research.google.com/assets/colab-badge.svg\" alt=\"Open In Colab\"/></a>"
      ]
    },
    {
      "cell_type": "markdown",
      "source": [
        "Lab#01\n",
        "Roll no : 20SW034\n",
        "Section 2"
      ],
      "metadata": {
        "id": "xWZqCHbUONyV"
      }
    },
    {
      "cell_type": "markdown",
      "source": [
        "Task #01"
      ],
      "metadata": {
        "id": "IIuFBsl3OviV"
      }
    },
    {
      "cell_type": "code",
      "source": [
        "var1=\"Python\"\n",
        "var2=\"Mam Rafia\"\n",
        "print(\"This is lab 01 of {} and {}\".format(var1,var2))"
      ],
      "metadata": {
        "colab": {
          "base_uri": "https://localhost:8080/"
        },
        "id": "i-FLDwdCO2vr",
        "outputId": "be05a7df-bfc8-4fca-f501-919c30cd52ad"
      },
      "execution_count": 1,
      "outputs": [
        {
          "output_type": "stream",
          "name": "stdout",
          "text": [
            "This is lab 01 of Python and Mam Rafia\n"
          ]
        }
      ]
    },
    {
      "cell_type": "markdown",
      "source": [
        "Task#02"
      ],
      "metadata": {
        "id": "VfNOMX_cRMyW"
      }
    },
    {
      "cell_type": "code",
      "source": [
        "str1=\"I am trying to be confident\"\n",
        "str2=\"hello\"\n",
        "str2.capitalize()\n"
      ],
      "metadata": {
        "colab": {
          "base_uri": "https://localhost:8080/",
          "height": 35
        },
        "id": "eeAGKxrQPyKf",
        "outputId": "582136f1-4d18-4dc7-d93b-231ee02a0508"
      },
      "execution_count": 4,
      "outputs": [
        {
          "output_type": "execute_result",
          "data": {
            "text/plain": [
              "'Hello'"
            ],
            "application/vnd.google.colaboratory.intrinsic+json": {
              "type": "string"
            }
          },
          "metadata": {},
          "execution_count": 4
        }
      ]
    },
    {
      "cell_type": "code",
      "source": [
        "str2.casefold()"
      ],
      "metadata": {
        "colab": {
          "base_uri": "https://localhost:8080/",
          "height": 35
        },
        "id": "jDk3bXa_RmRY",
        "outputId": "17e3bc08-150f-4ab9-9806-0a2dac49a3f9"
      },
      "execution_count": 5,
      "outputs": [
        {
          "output_type": "execute_result",
          "data": {
            "text/plain": [
              "'hello'"
            ],
            "application/vnd.google.colaboratory.intrinsic+json": {
              "type": "string"
            }
          },
          "metadata": {},
          "execution_count": 5
        }
      ]
    },
    {
      "cell_type": "code",
      "source": [
        "str2.index('l')"
      ],
      "metadata": {
        "colab": {
          "base_uri": "https://localhost:8080/"
        },
        "id": "cwuIwjzGSAqf",
        "outputId": "017266ad-09a7-4b9e-b7fa-e41eff3c8c0d"
      },
      "execution_count": 10,
      "outputs": [
        {
          "output_type": "execute_result",
          "data": {
            "text/plain": [
              "2"
            ]
          },
          "metadata": {},
          "execution_count": 10
        }
      ]
    },
    {
      "cell_type": "code",
      "source": [
        "str2.find('o')"
      ],
      "metadata": {
        "colab": {
          "base_uri": "https://localhost:8080/"
        },
        "id": "QnCJ8O4ESan8",
        "outputId": "8765bbac-ce21-47fb-fcb3-0726c1a622f0"
      },
      "execution_count": 12,
      "outputs": [
        {
          "output_type": "execute_result",
          "data": {
            "text/plain": [
              "4"
            ]
          },
          "metadata": {},
          "execution_count": 12
        }
      ]
    },
    {
      "cell_type": "markdown",
      "source": [
        "Task#03"
      ],
      "metadata": {
        "id": "Mp3dd3XQS8_K"
      }
    },
    {
      "cell_type": "code",
      "source": [
        "month=8\n",
        "days_in_months=[31,28,31,30,31,30,31,31,30,31,30,31]\n",
        "num_days=days_in_months[month-1]\n",
        "print(num_days)"
      ],
      "metadata": {
        "colab": {
          "base_uri": "https://localhost:8080/"
        },
        "id": "YXfZr4wfS7wu",
        "outputId": "fe070811-89e3-4e9f-c867-d4049a7daa04"
      },
      "execution_count": 17,
      "outputs": [
        {
          "output_type": "stream",
          "name": "stdout",
          "text": [
            "31\n"
          ]
        }
      ]
    },
    {
      "cell_type": "markdown",
      "source": [
        "Task#04"
      ],
      "metadata": {
        "id": "R6FDt8KJWEAB"
      }
    },
    {
      "cell_type": "code",
      "source": [
        "eclipse_dates=  ['June 21, 2001', 'December 4, 2002', 'November 23, 2003','March 29, 2006',\n",
        "                 'August 1, 2008', 'July 22, 2009', 'July 11, 2010', 'November 13, 2012',\n",
        "                 'March 20, 2015','March 9, 2016']\n",
        "eclipse_dates[-3:]"
      ],
      "metadata": {
        "colab": {
          "base_uri": "https://localhost:8080/"
        },
        "id": "6mIvmbX3V-Qu",
        "outputId": "12ba9503-af29-44d9-fa6a-c356239d87c3"
      },
      "execution_count": 19,
      "outputs": [
        {
          "output_type": "execute_result",
          "data": {
            "text/plain": [
              "['November 13, 2012', 'March 20, 2015', 'March 9, 2016']"
            ]
          },
          "metadata": {},
          "execution_count": 19
        }
      ]
    },
    {
      "cell_type": "markdown",
      "source": [
        "Task#05"
      ],
      "metadata": {
        "id": "Fxz9Cj47YJif"
      }
    },
    {
      "cell_type": "code",
      "source": [
        "Person ={ \"student1\" :{'Roll_no':'20SW034','Name':'Wardah gul','Gpa':'3.6','Subject':'DSA'},\n",
        "         \"student2\" :{'Roll_no':'20SW035','Name':'Isha Bhutto','Gpa':'3.5','Subject':'DSA'}}\n",
        "print(Person['student1'])\n",
        "print(Person['student2'])"
      ],
      "metadata": {
        "colab": {
          "base_uri": "https://localhost:8080/"
        },
        "id": "Ux7ANafkYIfw",
        "outputId": "f44c6ab7-c104-43a2-c146-80c71e27f94f"
      },
      "execution_count": 22,
      "outputs": [
        {
          "output_type": "stream",
          "name": "stdout",
          "text": [
            "{'Roll_no': '20SW034', 'Name': 'Wardah gul', 'Gpa': '3.6', 'Subject': 'DSA'}\n",
            "{'Roll_no': '20SW035', 'Name': 'Isha Bhutto', 'Gpa': '3.5', 'Subject': 'DSA'}\n"
          ]
        }
      ]
    }
  ]
}